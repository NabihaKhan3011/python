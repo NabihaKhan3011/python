{
  "nbformat": 4,
  "nbformat_minor": 0,
  "metadata": {
    "colab": {
      "provenance": [],
      "authorship_tag": "ABX9TyPgohFx9HaH1BE2d12J8VYu",
      "include_colab_link": true
    },
    "kernelspec": {
      "name": "python3",
      "display_name": "Python 3"
    },
    "language_info": {
      "name": "python"
    }
  },
  "cells": [
    {
      "cell_type": "markdown",
      "metadata": {
        "id": "view-in-github",
        "colab_type": "text"
      },
      "source": [
        "<a href=\"https://colab.research.google.com/github/NabihaKhan3011/python/blob/main/assignment_1_and_2.ipynb\" target=\"_parent\"><img src=\"https://colab.research.google.com/assets/colab-badge.svg\" alt=\"Open In Colab\"/></a>"
      ]
    },
    {
      "cell_type": "code",
      "execution_count": null,
      "metadata": {
        "colab": {
          "base_uri": "https://localhost:8080/"
        },
        "id": "h00rzEkqWLHI",
        "outputId": "08a4b76f-2939-443c-ac1b-0ac918fe274e"
      },
      "outputs": [
        {
          "output_type": "stream",
          "name": "stdout",
          "text": [
            "     name  attempts  score\n",
            "0  Najiha         1     86\n",
            "2  Mahiya         1     95\n"
          ]
        }
      ],
      "source": [
        "import pandas as pd\n",
        "\n",
        "data = {\n",
        "    'name': ['Najiha', 'Nabiha', 'Mahiya', 'Hadiya'],\n",
        "    'attempts': [1, 3, 1, 2],\n",
        "    'score': [86, 50, 95, 65]\n",
        "}\n",
        "\n",
        "df = pd.DataFrame(data)\n",
        "\n",
        "filtered_df = df[(df['attempts'] < 2) & (df['score'] > 15)]\n",
        "\n",
        "print(filtered_df)"
      ]
    },
    {
      "cell_type": "code",
      "source": [
        "import pandas as pd\n",
        "\n",
        "data = {\n",
        "    'name': ['Najiha', 'Nabiha', 'Mahiya', 'Hadiya'],\n",
        "    'attempts': [1, 3, 1, 2],\n",
        "    'score': [30, 20, 18, 45]\n",
        "}\n",
        "\n",
        "df = pd.DataFrame(data)\n",
        "\n",
        "df.at[2, 'score'] = 11.5\n",
        "\n",
        "print(df)"
      ],
      "metadata": {
        "colab": {
          "base_uri": "https://localhost:8080/"
        },
        "id": "KtLkac4dc2Pd",
        "outputId": "4afe720e-f53d-4b1c-f6f5-a9e5e2ce95f0"
      },
      "execution_count": null,
      "outputs": [
        {
          "output_type": "stream",
          "name": "stdout",
          "text": [
            "     name  attempts  score\n",
            "0  Najiha         1   30.0\n",
            "1  Nabiha         3   20.0\n",
            "2  Mahiya         1   11.5\n",
            "3  Hadiya         2   45.0\n"
          ]
        }
      ]
    },
    {
      "cell_type": "code",
      "source": [
        "import pandas as pd\n",
        "\n",
        "data = {\n",
        "    'name': ['Najiha', 'Nabiha', 'Mahiya', 'Hadiya'],\n",
        "    'attempts': [1, 3, 4, 3],\n",
        "    'score': [20, 12, 18, 16, ]\n",
        "}\n",
        "\n",
        "df = pd.DataFrame(data)\n",
        "\n",
        "sum_attempts = df['attempts'].sum()\n",
        "\n",
        "print(\"Sum of examination attempts:\", sum_attempts)"
      ],
      "metadata": {
        "colab": {
          "base_uri": "https://localhost:8080/"
        },
        "id": "f4g4EJU3fTpQ",
        "outputId": "eef5f733-93bc-427b-9d58-e67428948686"
      },
      "execution_count": null,
      "outputs": [
        {
          "output_type": "stream",
          "name": "stdout",
          "text": [
            "Sum of examination attempts: 11\n"
          ]
        }
      ]
    },
    {
      "cell_type": "code",
      "source": [
        "import pandas as pd\n",
        "\n",
        "data = {\n",
        "    'name': ['Najiha', 'Nabiha', 'Mahiya', 'Hadiya', 'Ahmedi', 'Mohammedi'],\n",
        "    'attempts': [3, 1, 2, 1, 3, 2],\n",
        "    'score': [80, 70, 75, 90, 65, 95]\n",
        "}\n",
        "\n",
        "df = pd.DataFrame(data)\n",
        "\n",
        "mean_scores = df.groupby('name')['score'].mean()\n",
        "\n",
        "print(mean_scores)"
      ],
      "metadata": {
        "colab": {
          "base_uri": "https://localhost:8080/"
        },
        "id": "yhjHesFzgSll",
        "outputId": "f6766c32-6c26-481a-df72-c24920763ff0"
      },
      "execution_count": null,
      "outputs": [
        {
          "output_type": "stream",
          "name": "stdout",
          "text": [
            "name\n",
            "Ahmedi       65.0\n",
            "Hadiya       90.0\n",
            "Mahiya       75.0\n",
            "Mohammedi    95.0\n",
            "Nabiha       70.0\n",
            "Najiha       80.0\n",
            "Name: score, dtype: float64\n"
          ]
        }
      ]
    },
    {
      "cell_type": "code",
      "source": [
        "import pandas as pd\n",
        "\n",
        "data = {\n",
        "    'name': ['Najiha', 'Nabiha', 'Mahiya', 'hadiya'],\n",
        "    'attempts': [1, 3, 1, 2],\n",
        "    'score': [20, 12, 16, 19]\n",
        "}\n",
        "\n",
        "df = pd.DataFrame(data)\n",
        "\n",
        "new_row = pd.DataFrame({'name': 'Ahmedi', 'attempts': 3, 'score': 15}, index=['k'])\n",
        "df = df.append(new_row)\n",
        "\n",
        "print(\"DataFrame with the new row:\")\n",
        "print(df)"
      ],
      "metadata": {
        "colab": {
          "base_uri": "https://localhost:8080/"
        },
        "id": "P9VDYV9oiKmS",
        "outputId": "c8b7b205-f486-4259-81a7-57ff1aaeffb2"
      },
      "execution_count": null,
      "outputs": [
        {
          "output_type": "stream",
          "name": "stdout",
          "text": [
            "DataFrame with the new row:\n",
            "     name  attempts  score\n",
            "0  Najiha         1     20\n",
            "1  Nabiha         3     12\n",
            "2  Mahiya         1     16\n",
            "3  hadiya         2     19\n",
            "k  Ahmedi         3     15\n"
          ]
        },
        {
          "output_type": "stream",
          "name": "stderr",
          "text": [
            "<ipython-input-14-e57d6d9e2d07>:12: FutureWarning: The frame.append method is deprecated and will be removed from pandas in a future version. Use pandas.concat instead.\n",
            "  df = df.append(new_row)\n"
          ]
        }
      ]
    },
    {
      "cell_type": "code",
      "source": [
        "import pandas as pd\n",
        "\n",
        "data = {\n",
        "    'name': ['Najiha', 'Nabiha', 'Mahiya', 'Hadiya'],\n",
        "    'attempts': [1, 3, 1, 2],\n",
        "    'score': [20, 12, 16, 19]\n",
        "}\n",
        "\n",
        "df = pd.DataFrame(data)\n",
        "\n",
        "new_row = pd.DataFrame({'name': 'Ahmedi', 'attempts': 3, 'score': 15}, index=['k'])\n",
        "df = df.append(new_row)\n",
        "\n",
        "print(\"DataFrame with the new row:\")\n",
        "print(df)\n",
        "\n",
        "df = df.drop('k')\n",
        "\n",
        "print(\"\\nOriginal DataFrame after deleting the new row:\")\n",
        "print(df)"
      ],
      "metadata": {
        "colab": {
          "base_uri": "https://localhost:8080/"
        },
        "id": "aMLGDhJukOq3",
        "outputId": "3bd54faf-cbb1-4911-803a-d844753c2770"
      },
      "execution_count": null,
      "outputs": [
        {
          "output_type": "stream",
          "name": "stdout",
          "text": [
            "DataFrame with the new row:\n",
            "     name  attempts  score\n",
            "0  Najiha         1     20\n",
            "1  Nabiha         3     12\n",
            "2  Mahiya         1     16\n",
            "3  Hadiya         2     19\n",
            "k  Ahmedi         3     15\n",
            "\n",
            "Original DataFrame after deleting the new row:\n",
            "     name  attempts  score\n",
            "0  Najiha         1     20\n",
            "1  Nabiha         3     12\n",
            "2  Mahiya         1     16\n",
            "3  Hadiya         2     19\n"
          ]
        },
        {
          "output_type": "stream",
          "name": "stderr",
          "text": [
            "<ipython-input-15-8f7da4e8b9d5>:12: FutureWarning: The frame.append method is deprecated and will be removed from pandas in a future version. Use pandas.concat instead.\n",
            "  df = df.append(new_row)\n"
          ]
        }
      ]
    },
    {
      "cell_type": "code",
      "source": [
        "import pandas as pd\n",
        "\n",
        "data = {\n",
        "    'name': ['Najiha', 'Nabiha', 'Mahiya', 'Hadiya', 'Ahmedi'],\n",
        "    'attempts': [1, 3, 0, 1, 2],\n",
        "    'score': [20, 12, 18, 16, 19]\n",
        "}\n",
        "\n",
        "df = pd.DataFrame(data)\n",
        "\n",
        "df_sorted = df.sort_values(by=['name', 'score'], ascending=[False, True])\n",
        "\n",
        "print(df_sorted)"
      ],
      "metadata": {
        "colab": {
          "base_uri": "https://localhost:8080/"
        },
        "id": "4Lio_5G-k85v",
        "outputId": "27a6d09b-3a1e-40dc-87ba-5a4e3b8fb91b"
      },
      "execution_count": null,
      "outputs": [
        {
          "output_type": "stream",
          "name": "stdout",
          "text": [
            "     name  attempts  score\n",
            "0  Najiha         1     20\n",
            "1  Nabiha         3     12\n",
            "2  Mahiya         0     18\n",
            "3  Hadiya         1     16\n",
            "4  Ahmedi         2     19\n"
          ]
        }
      ]
    },
    {
      "cell_type": "code",
      "source": [
        "import pandas as pd\n",
        "\n",
        "data = {\n",
        "    'name': ['Najiha', 'Nabiha', 'Mahiya', 'Hadiya', 'Ahmedi'],\n",
        "    'qualify': ['yes', 'no', 'yes', 'no', 'yes']\n",
        "}\n",
        "\n",
        "df = pd.DataFrame(data)\n",
        "\n",
        "df['qualify'] = df['qualify'].replace({'yes': True, 'no': False})\n",
        "\n",
        "print(df)"
      ],
      "metadata": {
        "colab": {
          "base_uri": "https://localhost:8080/"
        },
        "id": "HSnuSGt0m7GV",
        "outputId": "eff35992-3519-434f-8753-c1901ddf2ee2"
      },
      "execution_count": null,
      "outputs": [
        {
          "output_type": "stream",
          "name": "stdout",
          "text": [
            "     name  qualify\n",
            "0  Najiha     True\n",
            "1  Nabiha    False\n",
            "2  Mahiya     True\n",
            "3  Hadiya    False\n",
            "4  Ahmedi     True\n"
          ]
        }
      ]
    },
    {
      "cell_type": "code",
      "source": [
        "import pandas as pd\n",
        "\n",
        "data = {\n",
        "    'name': ['Alice', 'Bob', 'James', 'David', 'Emma']\n",
        "}\n",
        "\n",
        "df = pd.DataFrame(data)\n",
        "\n",
        "df['name'] = df['name'].replace('James', 'Suresh')\n",
        "\n",
        "print(df)"
      ],
      "metadata": {
        "colab": {
          "base_uri": "https://localhost:8080/"
        },
        "id": "ZDY9STI5nkk3",
        "outputId": "96fbfb20-a433-4caa-8913-004bc1810a3b"
      },
      "execution_count": null,
      "outputs": [
        {
          "output_type": "stream",
          "name": "stdout",
          "text": [
            "     name\n",
            "0   Alice\n",
            "1     Bob\n",
            "2  Suresh\n",
            "3   David\n",
            "4    Emma\n"
          ]
        }
      ]
    },
    {
      "cell_type": "code",
      "source": [
        "import pandas as pd\n",
        "\n",
        "data = {\n",
        "    'name': ['Najiha', 'Nabiha', 'Mahiya', 'Hadiya'],\n",
        "    'attempts': [1, 3, 1, 2],\n",
        "    'score': [20, 12, 16, 19]\n",
        "}\n",
        "\n",
        "df = pd.DataFrame(data)\n",
        "\n",
        "df = df.drop('attempts', axis=1)\n",
        "\n",
        "print(df)"
      ],
      "metadata": {
        "colab": {
          "base_uri": "https://localhost:8080/"
        },
        "id": "LodYhD54oMP9",
        "outputId": "89421d21-88ee-4fb2-ec2e-4f7012fb1c7f"
      },
      "execution_count": null,
      "outputs": [
        {
          "output_type": "stream",
          "name": "stdout",
          "text": [
            "     name  score\n",
            "0  Najiha     20\n",
            "1  Nabiha     12\n",
            "2  Mahiya     16\n",
            "3  Hadiya     19\n"
          ]
        }
      ]
    },
    {
      "cell_type": "code",
      "source": [
        "import pandas as pd\n",
        "\n",
        "data = {\n",
        "    'name': ['Najiha', 'Nabiha', 'Mahiya', 'Hadiya'],\n",
        "    'score': [20, 12, 16, 19]\n",
        "}\n",
        "\n",
        "df = pd.DataFrame(data)\n",
        "\n",
        "df['grade'] = ['A', 'C', 'B', 'A']\n",
        "\n",
        "print(df)"
      ],
      "metadata": {
        "colab": {
          "base_uri": "https://localhost:8080/"
        },
        "id": "4yJfQs2MotU3",
        "outputId": "583e235a-85fe-40c0-fbe5-aac462e9a4e6"
      },
      "execution_count": null,
      "outputs": [
        {
          "output_type": "stream",
          "name": "stdout",
          "text": [
            "     name  score grade\n",
            "0  Najiha     20     A\n",
            "1  Nabiha     12     C\n",
            "2  Mahiya     16     B\n",
            "3  Hadiya     19     A\n"
          ]
        }
      ]
    },
    {
      "cell_type": "code",
      "source": [
        "import pandas as pd\n",
        "\n",
        "data = {\n",
        "    'name': ['Najiha', 'Nabiha', 'Mahiya', 'Hadiya',],\n",
        "    'score': [20, 12, 16, 19]\n",
        "}\n",
        "\n",
        "df = pd.DataFrame(data)\n",
        "\n",
        "for index, row in df.iterrows():\n",
        "    print(\"Row index:\", index)\n",
        "    print(\"Name:\", row['name'])\n",
        "    print(\"Score:\", row['score'])\n",
        "    print()"
      ],
      "metadata": {
        "colab": {
          "base_uri": "https://localhost:8080/"
        },
        "id": "r_Kbm_nwqj9s",
        "outputId": "4050ea9d-937f-477e-be8f-9af3867423c4"
      },
      "execution_count": null,
      "outputs": [
        {
          "output_type": "stream",
          "name": "stdout",
          "text": [
            "Row index: 0\n",
            "Name: Najiha\n",
            "Score: 20\n",
            "\n",
            "Row index: 1\n",
            "Name: Nabiha\n",
            "Score: 12\n",
            "\n",
            "Row index: 2\n",
            "Name: Mahiya\n",
            "Score: 16\n",
            "\n",
            "Row index: 3\n",
            "Name: Hadiya\n",
            "Score: 19\n",
            "\n"
          ]
        }
      ]
    },
    {
      "cell_type": "code",
      "source": [
        "import pandas as pd\n",
        "import numpy as np\n",
        "\n",
        "data = {\n",
        "    'name': ['Najiha', 'Nabiha', 'Mahiya', 'Hadiya', 'Ahmedi'],\n",
        "    'score': [20, np.nan, 18, np.nan, 19],\n",
        "    'age': [25, 30, np.nan, np.nan, 28]\n",
        "}\n",
        "\n",
        "df = pd.DataFrame(data)\n",
        "\n",
        "nan_count_score = df['score'].isna().sum()\n",
        "\n",
        "print(\"Number of NaN values in 'score' column:\", nan_count_score)\n",
        "\n",
        "nan_count_multiple = df[['score', 'age']].isna().sum()\n",
        "\n",
        "print(\"\\nNumber of NaN values in 'score' and 'age' columns:\")\n",
        "print(nan_count_multiple)"
      ],
      "metadata": {
        "colab": {
          "base_uri": "https://localhost:8080/"
        },
        "id": "_x64eoOCrk_g",
        "outputId": "b435fc9d-70eb-4eb9-872e-b14d4ce36001"
      },
      "execution_count": null,
      "outputs": [
        {
          "output_type": "stream",
          "name": "stdout",
          "text": [
            "Number of NaN values in 'score' column: 2\n",
            "\n",
            "Number of NaN values in 'score' and 'age' columns:\n",
            "score    2\n",
            "age      2\n",
            "dtype: int64\n"
          ]
        }
      ]
    },
    {
      "cell_type": "code",
      "source": [
        "import pandas as pd\n",
        "\n",
        "d = {'col1': [1, 2, 3], 'col2': [4, 5, 6], 'col3': [7, 8, 9]}\n",
        "\n",
        "df = pd.DataFrame(d)\n",
        "\n",
        "df.columns = df.columns.str.upper()\n",
        "\n",
        "df.columns = df.columns + '_'\n",
        "\n",
        "print(df)"
      ],
      "metadata": {
        "colab": {
          "base_uri": "https://localhost:8080/"
        },
        "id": "doSkCV3KsOlV",
        "outputId": "cda11fbc-40ad-45ab-eeae-5bced0f73eec"
      },
      "execution_count": null,
      "outputs": [
        {
          "output_type": "stream",
          "name": "stdout",
          "text": [
            "   COL1_  COL2_  COL3_\n",
            "0      1      4      7\n",
            "1      2      5      8\n",
            "2      3      6      9\n"
          ]
        }
      ]
    },
    {
      "cell_type": "code",
      "source": [
        "import pandas as pd\n",
        "\n",
        "d = {'col1': [1, 2, 3], 'col2': [4, 5, 6], 'col3': [7, 8, 9]}\n",
        "df = pd.DataFrame(d)\n",
        "\n",
        "selected_rows = df[df.eq(4).any(axis=1)]\n",
        "\n",
        "print(selected_rows)"
      ],
      "metadata": {
        "colab": {
          "base_uri": "https://localhost:8080/"
        },
        "id": "OwBbd2x4ZxyD",
        "outputId": "095aeaf2-221e-48b3-ca09-bcf4e8f1c2e7"
      },
      "execution_count": null,
      "outputs": [
        {
          "output_type": "stream",
          "name": "stdout",
          "text": [
            "   col1  col2  col3\n",
            "0     1     4     7\n"
          ]
        }
      ]
    },
    {
      "cell_type": "code",
      "source": [
        "import pandas as pd\n",
        "\n",
        "d = {'col1': [1, 2, 3], 'col2': [4, 5, 6], 'col3': [7, 8, 9]}\n",
        "df = pd.DataFrame(d)\n",
        "\n",
        "reversed_columns = df.loc[:, ::-1]\n",
        "\n",
        "print(reversed_columns)"
      ],
      "metadata": {
        "colab": {
          "base_uri": "https://localhost:8080/"
        },
        "id": "ALLfhyzNZ9cX",
        "outputId": "9c8a9b0a-4212-47f2-aa26-ff987ebe9604"
      },
      "execution_count": null,
      "outputs": [
        {
          "output_type": "stream",
          "name": "stdout",
          "text": [
            "   col3  col2  col1\n",
            "0     7     4     1\n",
            "1     8     5     2\n",
            "2     9     6     3\n"
          ]
        }
      ]
    },
    {
      "cell_type": "code",
      "source": [
        "import pandas as pd\n",
        "\n",
        "d = {'col1': [1, 2, 3], 'col2': [4, 5, 6], 'col3': [7, 8, 9]}\n",
        "df = pd.DataFrame(d)\n",
        "\n",
        "new_row = {'col1': 3, 'col2': 52, 'col3': 4}\n",
        "\n",
        "df = df.append(new_row, ignore_index=True)\n",
        "\n",
        "print(df)"
      ],
      "metadata": {
        "colab": {
          "base_uri": "https://localhost:8080/"
        },
        "id": "owr6iLnvaUf8",
        "outputId": "fafbe9ca-ee6e-4d9a-8983-984fc9a86862"
      },
      "execution_count": null,
      "outputs": [
        {
          "output_type": "stream",
          "name": "stdout",
          "text": [
            "   col1  col2  col3\n",
            "0     1     4     7\n",
            "1     2     5     8\n",
            "2     3     6     9\n",
            "3     3    52     4\n"
          ]
        },
        {
          "output_type": "stream",
          "name": "stderr",
          "text": [
            "<ipython-input-5-f17035c87cf0>:8: FutureWarning: The frame.append method is deprecated and will be removed from pandas in a future version. Use pandas.concat instead.\n",
            "  df = df.append(new_row, ignore_index=True)\n"
          ]
        }
      ]
    },
    {
      "cell_type": "code",
      "source": [
        "import pandas as pd\n",
        "\n",
        "d = {'col1': [1, 2, 3], 'col2': [4, 5, 6], 'col3': [7, 8, 9]}\n",
        "df = pd.DataFrame(d)\n",
        "\n",
        "df = df[~df.eq(5).any(axis=1)]\n",
        "\n",
        "print(df)"
      ],
      "metadata": {
        "colab": {
          "base_uri": "https://localhost:8080/"
        },
        "id": "m0o0_6XfbDOR",
        "outputId": "621e4ca5-a945-4cbe-9403-ee80a0de9ede"
      },
      "execution_count": null,
      "outputs": [
        {
          "output_type": "stream",
          "name": "stdout",
          "text": [
            "   col1  col2  col3\n",
            "0     1     4     7\n",
            "2     3     6     9\n"
          ]
        }
      ]
    }
  ]
}